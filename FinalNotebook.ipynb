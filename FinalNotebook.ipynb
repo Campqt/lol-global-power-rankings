{
 "cells": [
  {
   "cell_type": "markdown",
   "id": "5ace3823-27fa-4064-aec5-b8076ac3f0a2",
   "metadata": {
    "tags": []
   },
   "source": [
    "# Global Power Rankings Hackathon\n"
   ]
  },
  {
   "cell_type": "markdown",
   "id": "358a8101-58d1-438a-a303-dc2d50cf1517",
   "metadata": {
    "tags": []
   },
   "source": [
    "## Intro \n",
    "(chi sono e esperienze)"
   ]
  },
  {
   "cell_type": "markdown",
   "id": "ce7ac1f8-3765-47a6-aaad-b17ea8579e8a",
   "metadata": {},
   "source": [
    "The challenge"
   ]
  },
  {
   "cell_type": "markdown",
   "id": "a3f45c5f-94c3-432b-b3e8-efeb55e95e5a",
   "metadata": {},
   "source": [
    "My thinking:\n",
    "Create a ELO system\n",
    "scorelines and performance dont matter\n",
    "elo of players composing a team is the key to have the elo of a team"
   ]
  },
  {
   "cell_type": "markdown",
   "id": "ba1b4cc1-8cd5-453e-b79a-73a1fb3bebbb",
   "metadata": {},
   "source": [
    "## ELO_players e i vari problemi\n"
   ]
  },
  {
   "cell_type": "markdown",
   "id": "5c9c424a-6835-40d9-a667-e9d99eec0f51",
   "metadata": {},
   "source": [
    "## ELO_teams e la riuscita"
   ]
  },
  {
   "cell_type": "markdown",
   "id": "124d4d9f-ed27-4557-b8a1-884941709288",
   "metadata": {},
   "source": [
    "## ELO history and my data"
   ]
  },
  {
   "cell_type": "markdown",
   "id": "af2f3e87-0b49-4d9b-8499-bd784e4dd1ef",
   "metadata": {},
   "source": [
    "## Conclusioni "
   ]
  }
 ],
 "metadata": {
  "kernelspec": {
   "display_name": "conda_python3",
   "language": "python",
   "name": "conda_python3"
  },
  "language_info": {
   "codemirror_mode": {
    "name": "ipython",
    "version": 3
   },
   "file_extension": ".py",
   "mimetype": "text/x-python",
   "name": "python",
   "nbconvert_exporter": "python",
   "pygments_lexer": "ipython3",
   "version": "3.10.12"
  }
 },
 "nbformat": 4,
 "nbformat_minor": 5
}
