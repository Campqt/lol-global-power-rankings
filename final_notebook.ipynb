{
 "cells": [
  {
   "cell_type": "markdown",
   "id": "5ace3823-27fa-4064-aec5-b8076ac3f0a2",
   "metadata": {
    "tags": []
   },
   "source": [
    "# Global Power Rankings Hackathon\n"
   ]
  },
  {
   "cell_type": "markdown",
   "id": "358a8101-58d1-438a-a303-dc2d50cf1517",
   "metadata": {
    "tags": []
   },
   "source": [
    "## Intro \n",
    "Hi my name is Giuseppe Frigeni and my nickname on discord is Camp. I started playing league in season 2 and i have been a fan of the pro scene since (i still remember watching season 2 Worlds and how hype it felt) even after I stopped playing the game some years ago. To this day i still watch the pro scene when i can and im watching daily this Worlds."
   ]
  },
  {
   "cell_type": "markdown",
   "id": "dfef14d6-368b-42e7-bf81-a373e0cc2953",
   "metadata": {},
   "source": [
    "I recently started studying Data science and Machine Learning and I already had in mind a project for LoL when i stumbled on this hackaton. The project I had in mind is to create something similar to what they have in chess that in real time tells you who is winning using computer vision but i think is a bit too big and computing needy for a solo project."
   ]
  },
  {
   "cell_type": "markdown",
   "id": "ce7ac1f8-3765-47a6-aaad-b17ea8579e8a",
   "metadata": {},
   "source": [
    "After looking at this hackaton my thinking is to create an ELO system for the players. The ELO of a team is the average of the players and players gain or loose ELO on wins or losses."
   ]
  },
  {
   "cell_type": "markdown",
   "id": "a3f45c5f-94c3-432b-b3e8-efeb55e95e5a",
   "metadata": {},
   "source": [
    "I am not gonna use the stats of individual performance for two reasons: make the code faster without having to pull up the data for every single game (in tournament.json i can get everything i need) and because you cant say who performed better or worse just by looking at a scoreline or for an epic kill. Examples could be the Dyrus treatment where he would get camped during the game and have negative scorelines and then the team would win, should he get less ELO because his scoreline is bad? I think is very hard getting a factual insight in someone performance without looking at the game unfolding."
   ]
  },
  {
   "cell_type": "markdown",
   "id": "ba1b4cc1-8cd5-453e-b79a-73a1fb3bebbb",
   "metadata": {
    "tags": []
   },
   "source": [
    "## ELO_players and problems"
   ]
  },
  {
   "cell_type": "code",
   "execution_count": 10,
   "id": "73e8d8e3-9610-455f-bcd9-f8ddfc12e392",
   "metadata": {
    "tags": []
   },
   "outputs": [],
   "source": [
    "import requests\n",
    "import json\n",
    "import gzip\n",
    "import shutil\n",
    "import time\n",
    "import os\n",
    "from io import BytesIO\n",
    "import pandas as pd\n",
    "import numpy as np\n",
    "from datetime import datetime, timedelta"
   ]
  },
  {
   "cell_type": "markdown",
   "id": "e22c4800-f0be-4f89-aefe-8581fcee8ecb",
   "metadata": {},
   "source": [
    "To download the files i just used the code provided by you"
   ]
  },
  {
   "cell_type": "code",
   "execution_count": 2,
   "id": "feb51f5f-1fa4-4ced-aa7e-db6f24da284f",
   "metadata": {
    "tags": []
   },
   "outputs": [
    {
     "name": "stdout",
     "output_type": "stream",
     "text": [
      "esports-data/leagues.json written\n",
      "esports-data/tournaments.json written\n",
      "esports-data/players.json written\n",
      "esports-data/teams.json written\n",
      "esports-data/mapping_data.json written\n",
      "esports-data/tournaments_without_game_data.json written\n",
      "esports-data/unfiltered_players.json written\n",
      "esports-data/unfiltered_teams.json written\n"
     ]
    }
   ],
   "source": [
    "S3_BUCKET_URL = \"https://power-rankings-dataset-gprhack.s3.us-west-2.amazonaws.com\"\n",
    "\n",
    "\n",
    "def download_gzip_and_write_to_json(file_name):\n",
    "   # If file already exists locally do not re-download game\n",
    "   if os.path.isfile(f\"{file_name}.json\"):\n",
    "       return\n",
    "\n",
    "   response = requests.get(f\"{S3_BUCKET_URL}/{file_name}.json.gz\")\n",
    "   if response.status_code == 200:\n",
    "       try:\n",
    "           gzip_bytes = BytesIO(response.content)\n",
    "           with gzip.GzipFile(fileobj=gzip_bytes, mode=\"rb\") as gzipped_file:\n",
    "               with open(f\"{file_name}.json\", 'wb') as output_file:\n",
    "                   shutil.copyfileobj(gzipped_file, output_file)\n",
    "               print(f\"{file_name}.json written\")\n",
    "       except Exception as e:\n",
    "           print(\"Error:\", e)\n",
    "   else:\n",
    "       print(f\"Failed to download {file_name}\")\n",
    "\n",
    "\n",
    "def download_esports_files():\n",
    "   directory = \"esports-data\"\n",
    "   if not os.path.exists(directory):\n",
    "       os.makedirs(directory)\n",
    "\n",
    "   esports_data_files = [\"leagues\", \"tournaments\", \"players\", \"teams\", \"mapping_data\",\"tournaments_without_game_data\",\"unfiltered_players\",\"unfiltered_teams\"]\n",
    "   for file_name in esports_data_files:\n",
    "       download_gzip_and_write_to_json(f\"{directory}/{file_name}\")\n",
    "\n",
    "\n",
    "if __name__ == \"__main__\":\n",
    "    download_esports_files()"
   ]
  },
  {
   "cell_type": "markdown",
   "id": "eeca52c4-adb7-4761-a397-ce0f608c0e13",
   "metadata": {},
   "source": [
    "First problem using pandas read_json the ids are too long and become wrong probably because of some approximation done by the command on large numbers so i used this workaround:"
   ]
  },
  {
   "cell_type": "code",
   "execution_count": 3,
   "id": "ce4fd615-8410-4cf4-9e3c-d8cf7b48592f",
   "metadata": {
    "tags": []
   },
   "outputs": [],
   "source": [
    "def json_to_df(path):\n",
    "    with open(path, 'r') as j:\n",
    "        contents = json.loads(j.read())\n",
    "\n",
    "    df = pd.json_normalize(contents)\n",
    "    return df"
   ]
  },
  {
   "cell_type": "code",
   "execution_count": 8,
   "id": "8bb48f67-1583-4083-8f25-02640892663d",
   "metadata": {
    "tags": []
   },
   "outputs": [],
   "source": [
    "tournaments = json_to_df('esports-data/tournaments.json')\n",
    "tournaments2 = json_to_df('esports-data/tournaments_without_game_data.json')\n",
    "players = json_to_df('esports-data/unfiltered_players.json')\n",
    "#unfiltered_players = json_to_df('esports-data/unfiltered_players.json')\n",
    "leagues = json_to_df('esports-data/leagues.json')\n",
    "teams = json_to_df('esports-data/unfiltered_teams.json')\n",
    "mapping_data = json_to_df('esports-data/mapping_data.json')\n",
    "new_leagues = pd.read_csv('new_leagues.csv')\n",
    "new_leagues = new_leagues.drop('Unnamed: 0', axis = 1)\n",
    "tournaments = pd.concat([tournaments, tournaments2], ignore_index=True)\n",
    "tournaments.sort_values(by =['startDate'], inplace =True)\n",
    "players = players.drop_duplicates(subset=['player_id'])\n",
    "new_leagues.sort_values(by =['ELO'], ascending = False, inplace =True)"
   ]
  },
  {
   "cell_type": "markdown",
   "id": "2ee5f2c5-298a-414c-a4e5-2fa6f29b6955",
   "metadata": {},
   "source": [
    "new_leagues is a the leagues dataframe modified by hand by me where i added a starting ELO for specific league."
   ]
  },
  {
   "cell_type": "code",
   "execution_count": 9,
   "id": "82254fd7-df08-4260-8268-06387124d288",
   "metadata": {
    "tags": []
   },
   "outputs": [
    {
     "data": {
      "text/html": [
       "<div>\n",
       "<style scoped>\n",
       "    .dataframe tbody tr th:only-of-type {\n",
       "        vertical-align: middle;\n",
       "    }\n",
       "\n",
       "    .dataframe tbody tr th {\n",
       "        vertical-align: top;\n",
       "    }\n",
       "\n",
       "    .dataframe thead th {\n",
       "        text-align: right;\n",
       "    }\n",
       "</style>\n",
       "<table border=\"1\" class=\"dataframe\">\n",
       "  <thead>\n",
       "    <tr style=\"text-align: right;\">\n",
       "      <th></th>\n",
       "      <th>id</th>\n",
       "      <th>slug</th>\n",
       "      <th>ELO</th>\n",
       "    </tr>\n",
       "  </thead>\n",
       "  <tbody>\n",
       "    <tr>\n",
       "      <th>16</th>\n",
       "      <td>98767975604431411</td>\n",
       "      <td>world</td>\n",
       "      <td>1600</td>\n",
       "    </tr>\n",
       "    <tr>\n",
       "      <th>15</th>\n",
       "      <td>98767991325878492</td>\n",
       "      <td>msi</td>\n",
       "      <td>1600</td>\n",
       "    </tr>\n",
       "    <tr>\n",
       "      <th>11</th>\n",
       "      <td>98767991314006698</td>\n",
       "      <td>lpl</td>\n",
       "      <td>1500</td>\n",
       "    </tr>\n",
       "    <tr>\n",
       "      <th>5</th>\n",
       "      <td>98767991310872058</td>\n",
       "      <td>lck</td>\n",
       "      <td>1500</td>\n",
       "    </tr>\n",
       "    <tr>\n",
       "      <th>36</th>\n",
       "      <td>123</td>\n",
       "      <td>eu</td>\n",
       "      <td>1400</td>\n",
       "    </tr>\n",
       "    <tr>\n",
       "      <th>8</th>\n",
       "      <td>98767991302996019</td>\n",
       "      <td>lec</td>\n",
       "      <td>1400</td>\n",
       "    </tr>\n",
       "    <tr>\n",
       "      <th>0</th>\n",
       "      <td>98767991299243165</td>\n",
       "      <td>lcs</td>\n",
       "      <td>1300</td>\n",
       "    </tr>\n",
       "    <tr>\n",
       "      <th>32</th>\n",
       "      <td>98767991335774713</td>\n",
       "      <td>lck_challengers_league</td>\n",
       "      <td>1200</td>\n",
       "    </tr>\n",
       "    <tr>\n",
       "      <th>12</th>\n",
       "      <td>104366947889790212</td>\n",
       "      <td>pcs</td>\n",
       "      <td>1200</td>\n",
       "    </tr>\n",
       "    <tr>\n",
       "      <th>7</th>\n",
       "      <td>105709090213554609</td>\n",
       "      <td>lco</td>\n",
       "      <td>1100</td>\n",
       "    </tr>\n",
       "    <tr>\n",
       "      <th>17</th>\n",
       "      <td>100695891328981122</td>\n",
       "      <td>emea</td>\n",
       "      <td>1100</td>\n",
       "    </tr>\n",
       "    <tr>\n",
       "      <th>25</th>\n",
       "      <td>105266091639104326</td>\n",
       "      <td>prime</td>\n",
       "      <td>1100</td>\n",
       "    </tr>\n",
       "    <tr>\n",
       "      <th>24</th>\n",
       "      <td>105266074488398661</td>\n",
       "      <td>superliga</td>\n",
       "      <td>1100</td>\n",
       "    </tr>\n",
       "    <tr>\n",
       "      <th>23</th>\n",
       "      <td>105266088231437431</td>\n",
       "      <td>ultraliga</td>\n",
       "      <td>1100</td>\n",
       "    </tr>\n",
       "    <tr>\n",
       "      <th>6</th>\n",
       "      <td>98767991355908944</td>\n",
       "      <td>lcl</td>\n",
       "      <td>1100</td>\n",
       "    </tr>\n",
       "    <tr>\n",
       "      <th>19</th>\n",
       "      <td>105266098308571975</td>\n",
       "      <td>nlc</td>\n",
       "      <td>1100</td>\n",
       "    </tr>\n",
       "    <tr>\n",
       "      <th>1</th>\n",
       "      <td>109511549831443335</td>\n",
       "      <td>na</td>\n",
       "      <td>1100</td>\n",
       "    </tr>\n",
       "    <tr>\n",
       "      <th>18</th>\n",
       "      <td>105266103462388553</td>\n",
       "      <td>lfl</td>\n",
       "      <td>1100</td>\n",
       "    </tr>\n",
       "    <tr>\n",
       "      <th>9</th>\n",
       "      <td>98767991349978712</td>\n",
       "      <td>ljl</td>\n",
       "      <td>1100</td>\n",
       "    </tr>\n",
       "    <tr>\n",
       "      <th>14</th>\n",
       "      <td>107213827295848783</td>\n",
       "      <td>vcs</td>\n",
       "      <td>1100</td>\n",
       "    </tr>\n",
       "    <tr>\n",
       "      <th>4</th>\n",
       "      <td>98767991332355509</td>\n",
       "      <td>cblol</td>\n",
       "      <td>1100</td>\n",
       "    </tr>\n",
       "    <tr>\n",
       "      <th>10</th>\n",
       "      <td>101382741235120470</td>\n",
       "      <td>lla</td>\n",
       "      <td>1100</td>\n",
       "    </tr>\n",
       "    <tr>\n",
       "      <th>2</th>\n",
       "      <td>109518549825754242</td>\n",
       "      <td>lcs_challengers_qualifiers</td>\n",
       "      <td>1000</td>\n",
       "    </tr>\n",
       "    <tr>\n",
       "      <th>3</th>\n",
       "      <td>107898214974993351</td>\n",
       "      <td>college_championship</td>\n",
       "      <td>1000</td>\n",
       "    </tr>\n",
       "    <tr>\n",
       "      <th>30</th>\n",
       "      <td>108203770023880322</td>\n",
       "      <td>lck_academy</td>\n",
       "      <td>1000</td>\n",
       "    </tr>\n",
       "    <tr>\n",
       "      <th>29</th>\n",
       "      <td>109545772895506419</td>\n",
       "      <td>arabian_league</td>\n",
       "      <td>1000</td>\n",
       "    </tr>\n",
       "    <tr>\n",
       "      <th>28</th>\n",
       "      <td>105266108767593290</td>\n",
       "      <td>greek_legends</td>\n",
       "      <td>1000</td>\n",
       "    </tr>\n",
       "    <tr>\n",
       "      <th>27</th>\n",
       "      <td>105266111679554379</td>\n",
       "      <td>esports_balkan_league</td>\n",
       "      <td>1000</td>\n",
       "    </tr>\n",
       "    <tr>\n",
       "      <th>26</th>\n",
       "      <td>105266106309666619</td>\n",
       "      <td>hitpoint_masters</td>\n",
       "      <td>1000</td>\n",
       "    </tr>\n",
       "    <tr>\n",
       "      <th>13</th>\n",
       "      <td>98767991343597634</td>\n",
       "      <td>tcl</td>\n",
       "      <td>1000</td>\n",
       "    </tr>\n",
       "    <tr>\n",
       "      <th>21</th>\n",
       "      <td>105266101075764040</td>\n",
       "      <td>liga</td>\n",
       "      <td>1000</td>\n",
       "    </tr>\n",
       "    <tr>\n",
       "      <th>20</th>\n",
       "      <td>107407335299756365</td>\n",
       "      <td>elite_series</td>\n",
       "      <td>1000</td>\n",
       "    </tr>\n",
       "    <tr>\n",
       "      <th>22</th>\n",
       "      <td>105266094998946936</td>\n",
       "      <td>pg</td>\n",
       "      <td>1000</td>\n",
       "    </tr>\n",
       "    <tr>\n",
       "      <th>31</th>\n",
       "      <td>106827757669296909</td>\n",
       "      <td>ljl_academy</td>\n",
       "      <td>900</td>\n",
       "    </tr>\n",
       "    <tr>\n",
       "      <th>33</th>\n",
       "      <td>105549980953490846</td>\n",
       "      <td>cblol_academy</td>\n",
       "      <td>900</td>\n",
       "    </tr>\n",
       "    <tr>\n",
       "      <th>34</th>\n",
       "      <td>110371976858004491</td>\n",
       "      <td>north_regional_league</td>\n",
       "      <td>900</td>\n",
       "    </tr>\n",
       "    <tr>\n",
       "      <th>35</th>\n",
       "      <td>110372322609949919</td>\n",
       "      <td>south_regional_league</td>\n",
       "      <td>900</td>\n",
       "    </tr>\n",
       "  </tbody>\n",
       "</table>\n",
       "</div>"
      ],
      "text/plain": [
       "                    id                        slug   ELO\n",
       "16   98767975604431411                       world  1600\n",
       "15   98767991325878492                         msi  1600\n",
       "11   98767991314006698                         lpl  1500\n",
       "5    98767991310872058                         lck  1500\n",
       "36                 123                          eu  1400\n",
       "8    98767991302996019                         lec  1400\n",
       "0    98767991299243165                         lcs  1300\n",
       "32   98767991335774713      lck_challengers_league  1200\n",
       "12  104366947889790212                         pcs  1200\n",
       "7   105709090213554609                         lco  1100\n",
       "17  100695891328981122                        emea  1100\n",
       "25  105266091639104326                       prime  1100\n",
       "24  105266074488398661                   superliga  1100\n",
       "23  105266088231437431                   ultraliga  1100\n",
       "6    98767991355908944                         lcl  1100\n",
       "19  105266098308571975                         nlc  1100\n",
       "1   109511549831443335                          na  1100\n",
       "18  105266103462388553                         lfl  1100\n",
       "9    98767991349978712                         ljl  1100\n",
       "14  107213827295848783                         vcs  1100\n",
       "4    98767991332355509                       cblol  1100\n",
       "10  101382741235120470                         lla  1100\n",
       "2   109518549825754242  lcs_challengers_qualifiers  1000\n",
       "3   107898214974993351        college_championship  1000\n",
       "30  108203770023880322                 lck_academy  1000\n",
       "29  109545772895506419              arabian_league  1000\n",
       "28  105266108767593290               greek_legends  1000\n",
       "27  105266111679554379       esports_balkan_league  1000\n",
       "26  105266106309666619            hitpoint_masters  1000\n",
       "13   98767991343597634                         tcl  1000\n",
       "21  105266101075764040                        liga  1000\n",
       "20  107407335299756365                elite_series  1000\n",
       "22  105266094998946936                          pg  1000\n",
       "31  106827757669296909                 ljl_academy   900\n",
       "33  105549980953490846               cblol_academy   900\n",
       "34  110371976858004491       north_regional_league   900\n",
       "35  110372322609949919       south_regional_league   900"
      ]
     },
     "execution_count": 9,
     "metadata": {},
     "output_type": "execute_result"
    }
   ],
   "source": [
    "new_leagues"
   ]
  },
  {
   "cell_type": "markdown",
   "id": "1321a1fa-06c3-4a06-9337-de0059c18933",
   "metadata": {},
   "source": [
    "This is gonna be my main dataframe where i store the ELO of every player"
   ]
  },
  {
   "cell_type": "code",
   "execution_count": 11,
   "id": "d4e18f05-0f20-41a9-a19f-1229f7037844",
   "metadata": {
    "tags": []
   },
   "outputs": [
    {
     "data": {
      "text/html": [
       "<div>\n",
       "<style scoped>\n",
       "    .dataframe tbody tr th:only-of-type {\n",
       "        vertical-align: middle;\n",
       "    }\n",
       "\n",
       "    .dataframe tbody tr th {\n",
       "        vertical-align: top;\n",
       "    }\n",
       "\n",
       "    .dataframe thead th {\n",
       "        text-align: right;\n",
       "    }\n",
       "</style>\n",
       "<table border=\"1\" class=\"dataframe\">\n",
       "  <thead>\n",
       "    <tr style=\"text-align: right;\">\n",
       "      <th></th>\n",
       "      <th>id</th>\n",
       "      <th>handle</th>\n",
       "      <th>ELO</th>\n",
       "    </tr>\n",
       "  </thead>\n",
       "  <tbody>\n",
       "  </tbody>\n",
       "</table>\n",
       "</div>"
      ],
      "text/plain": [
       "Empty DataFrame\n",
       "Columns: [id, handle, ELO]\n",
       "Index: []"
      ]
     },
     "execution_count": 11,
     "metadata": {},
     "output_type": "execute_result"
    }
   ],
   "source": [
    "ELO_players = pd.DataFrame(columns = ['id', 'handle', 'ELO'])\n",
    "ELO_players"
   ]
  },
  {
   "cell_type": "markdown",
   "id": "d073af47-f65d-4448-93c7-ed332d9f5e15",
   "metadata": {},
   "source": [
    "This is the main function to which i give a date and is gonna process all the tournaments starting with that date:"
   ]
  },
  {
   "cell_type": "code",
   "execution_count": 15,
   "id": "bf39b62b-9a41-4f87-a994-79a4f7ed15d2",
   "metadata": {
    "tags": []
   },
   "outputs": [],
   "source": [
    "def advance_elo(date, ELO_players, new_leagues):\n",
    "    for index, tournament in tournaments.iterrows():\n",
    "        start_date = tournament.get(\"startDate\", \"\")\n",
    "        if start_date.startswith(date):\n",
    "            if int(tournament['leagueId']) not in new_leagues.values:\n",
    "                print(tournament['slug'] ,' not in leagues')\n",
    "                continue\n",
    "            print(f\"Processing {tournament['slug']}\")\n",
    "            for stage in tournament[\"stages\"]:\n",
    "                for section in stage[\"sections\"]:\n",
    "                    for match in section[\"matches\"]:\n",
    "                        for game in match[\"games\"]:\n",
    "                            if game['id'] not in mapping_data.values:\n",
    "                                    continue\n",
    "                            if game[\"state\"] == \"completed\":\n",
    "                                elo_blue_side, elo_red_side, players_blue, players_red ,ELO_players = get_elo(game['id'], tournament['leagueId'], ELO_players,new_leagues)\n",
    "                                # function to get the elo of both sides and the players playing in this game\n",
    "                                k = 30 + 20 * (match['strategy']['count'] > 4) \n",
    "                                # coefficient for the game that is normally 30 but 50 for BO5 that normally imply more important games\n",
    "                                result_blue_side = game['teams'][0]['result']['outcome'] # result of blue side\n",
    "                                elo_change_blue, elo_change_red = elo_calc(elo_blue_side, elo_red_side, k, result_blue_side, stage['name']) \n",
    "                                #function to calculate the change in elo for both sides\n",
    "                                ELO_players = elo_change(elo_change_blue, elo_change_red, ELO_players, players_blue, players_red, elo_blue_side, elo_red_side)\n",
    "                                #function to change the elo of every single player\n",
    "    \n",
    "    return ELO_players"
   ]
  },
  {
   "cell_type": "markdown",
   "id": "8e9cceb5-1dd8-44b7-adc9-5f7742bca048",
   "metadata": {},
   "source": []
  },
  {
   "cell_type": "code",
   "execution_count": 14,
   "id": "b0ecc868-e9d3-4218-827b-c60127ed7673",
   "metadata": {
    "tags": []
   },
   "outputs": [],
   "source": [
    "def get_elo(game_id,league_id, ELO_players,new_leagues):\n",
    "    elo_blue_side = 0\n",
    "    elo_red_side = 0\n",
    "    players_blue = []\n",
    "    players_red = []\n",
    "    for i in range(1, 6, 1):\n",
    "        participant_mapping = 'participantMapping.{}'.format(i)\n",
    "        player_id = mapping_data.loc[mapping_data['esportsGameId'] == game_id][participant_mapping].item()\n",
    "        if player_id not in players.values:\n",
    "            continue\n",
    "        players_blue.append(player_id)\n",
    "        if player_id not in ELO_players.values :\n",
    "            ELO_players = start_elo(player_id, league_id, ELO_players, new_leagues)\n",
    "        elo_blue_side += ELO_players.loc[ELO_players['id'] == player_id]['ELO'].item()\n",
    "    for i in range(6, 11, 1):\n",
    "        participant_mapping = 'participantMapping.{}'.format(i)\n",
    "        player_id = mapping_data.loc[mapping_data['esportsGameId'] == game_id][participant_mapping].item()\n",
    "        if player_id not in players.values:\n",
    "            continue\n",
    "        players_red.append(player_id)\n",
    "        if player_id not in ELO_players.values :\n",
    "            ELO_players =start_elo(player_id, league_id, ELO_players, new_leagues)\n",
    "        elo_red_side += ELO_players.loc[ELO_players['id'] == player_id]['ELO'].item()\n",
    "    if len(players_blue) == 0:\n",
    "        len_players_blue = 1\n",
    "    else: \n",
    "        len_players_blue = len(players_blue)\n",
    "    if len(players_red) == 0:\n",
    "        len_players_red = 1\n",
    "    else: \n",
    "        len_players_red = len(players_red)\n",
    "    \n",
    "    return elo_blue_side/len_players_blue, elo_red_side/len_players_red, players_blue, players_red, ELO_players"
   ]
  },
  {
   "cell_type": "code",
   "execution_count": null,
   "id": "768a1f50-1678-439c-9160-3f585c255628",
   "metadata": {},
   "outputs": [],
   "source": []
  },
  {
   "cell_type": "markdown",
   "id": "5c9c424a-6835-40d9-a667-e9d99eec0f51",
   "metadata": {},
   "source": [
    "## ELO_teams e la riuscita"
   ]
  },
  {
   "cell_type": "code",
   "execution_count": null,
   "id": "5311e506-6246-465e-8088-df6c9af1b58d",
   "metadata": {},
   "outputs": [],
   "source": []
  },
  {
   "cell_type": "markdown",
   "id": "124d4d9f-ed27-4557-b8a1-884941709288",
   "metadata": {
    "tags": []
   },
   "source": [
    "## ELO history and my data"
   ]
  },
  {
   "cell_type": "markdown",
   "id": "af2f3e87-0b49-4d9b-8499-bd784e4dd1ef",
   "metadata": {},
   "source": [
    "## Conclusioni "
   ]
  }
 ],
 "metadata": {
  "kernelspec": {
   "display_name": "conda_python3",
   "language": "python",
   "name": "conda_python3"
  },
  "language_info": {
   "codemirror_mode": {
    "name": "ipython",
    "version": 3
   },
   "file_extension": ".py",
   "mimetype": "text/x-python",
   "name": "python",
   "nbconvert_exporter": "python",
   "pygments_lexer": "ipython3",
   "version": "3.10.12"
  }
 },
 "nbformat": 4,
 "nbformat_minor": 5
}
